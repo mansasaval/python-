{
 "cells": [
  {
   "cell_type": "markdown",
   "id": "3c546855",
   "metadata": {},
   "source": [
    "Why are functions advantageous to have in your programs?\n",
    "Ans :- Functions can be reusable . Suppose in a code if i want to do factorial multiple times then instead of writing full code everytime we can call the function whenever we needed\n",
    "\n",
    "When does the code in a function run: when it's specified or when it's called?"
   ]
  },
  {
   "cell_type": "code",
   "execution_count": 1,
   "id": "819e7fab",
   "metadata": {},
   "outputs": [],
   "source": [
    "def name():\n",
    "    print(\"manasa\")    "
   ]
  },
  {
   "cell_type": "code",
   "execution_count": 2,
   "id": "26a74b71",
   "metadata": {},
   "outputs": [
    {
     "name": "stdout",
     "output_type": "stream",
     "text": [
      "manasa\n"
     ]
    }
   ],
   "source": [
    "name()"
   ]
  },
  {
   "cell_type": "markdown",
   "id": "aae90da3",
   "metadata": {},
   "source": [
    "What is the difference between a function and a function call?\n",
    "Ans: - Function will have a whole body means it has the content/logic in and it won't run anything but when we call a function the code in it will run and it will return or print the result or if we use pass then nothing will be returned\n",
    "\n",
    "How many global scopes are there in a Python program? How many local scopes?\n",
    "Ans: - In a python program there is only one Global score and it wil; have the existence through out the code . Local scopes can be many . We cannot say these many loca sopes in a code . Depends on code and requirements we will have the local scopes\n",
    "\n",
    "What happens to variables in a local scope when the function call returns?\n",
    "Ans:-Whwn a function called actually the local variables will be active for execution.if those variables already exist as global variables then they will be override here and local variables will be consider for execution\n",
    "\n",
    "What is the concept of a return value? Is it possible to have a return value in an expression?\n",
    "Ans:-When we return a value it will have the data type and we can assigne that value to any variable and we can use that return value in expression as well since it is having data type . But when u use print instead of return then u cannot use to ecoressin since it has no data type"
   ]
  },
  {
   "cell_type": "code",
   "execution_count": 3,
   "id": "152901fd",
   "metadata": {},
   "outputs": [],
   "source": [
    "def add(a,b):\n",
    "    c=a+b\n",
    "    return c"
   ]
  },
  {
   "cell_type": "code",
   "execution_count": 4,
   "id": "e64c51dc",
   "metadata": {},
   "outputs": [],
   "source": [
    "d = add(2,2)"
   ]
  },
  {
   "cell_type": "code",
   "execution_count": 5,
   "id": "c1f1963d",
   "metadata": {},
   "outputs": [
    {
     "data": {
      "text/plain": [
       "4"
      ]
     },
     "execution_count": 5,
     "metadata": {},
     "output_type": "execute_result"
    }
   ],
   "source": [
    "d\n"
   ]
  },
  {
   "cell_type": "code",
   "execution_count": 6,
   "id": "811312e4",
   "metadata": {},
   "outputs": [
    {
     "data": {
      "text/plain": [
       "int"
      ]
     },
     "execution_count": 6,
     "metadata": {},
     "output_type": "execute_result"
    }
   ],
   "source": [
    "type(d)"
   ]
  },
  {
   "cell_type": "markdown",
   "id": "318c712c",
   "metadata": {},
   "source": [
    "U can c we we can use the return value in expression as well\n",
    "\n",
    "If a function does not have a return statement, what is the return value of a call to that function?\n",
    "Ans : - When there is no return statement the funtion will return \"None\" . U can see that in below"
   ]
  },
  {
   "cell_type": "code",
   "execution_count": 8,
   "id": "61c547c5",
   "metadata": {},
   "outputs": [],
   "source": [
    "def add1(a,b):\n",
    "    c=a+b"
   ]
  },
  {
   "cell_type": "code",
   "execution_count": 9,
   "id": "15e8bbbc",
   "metadata": {},
   "outputs": [],
   "source": [
    "d=add1(2,3)"
   ]
  },
  {
   "cell_type": "code",
   "execution_count": 10,
   "id": "2c40d6da",
   "metadata": {},
   "outputs": [
    {
     "name": "stdout",
     "output_type": "stream",
     "text": [
      "None\n"
     ]
    }
   ],
   "source": [
    "print(d)\n"
   ]
  },
  {
   "cell_type": "code",
   "execution_count": 11,
   "id": "05914541",
   "metadata": {},
   "outputs": [],
   "source": [
    "a=2\n",
    "def add2(a,b):\n",
    "    c=a+b\n",
    "    return c"
   ]
  },
  {
   "cell_type": "code",
   "execution_count": 12,
   "id": "2d3684f3",
   "metadata": {},
   "outputs": [
    {
     "data": {
      "text/plain": [
       "3"
      ]
     },
     "execution_count": 12,
     "metadata": {},
     "output_type": "execute_result"
    }
   ],
   "source": [
    "add2(a,1)\n"
   ]
  },
  {
   "cell_type": "code",
   "execution_count": null,
   "id": "0cf145d3",
   "metadata": {},
   "outputs": [],
   "source": []
  }
 ],
 "metadata": {
  "kernelspec": {
   "display_name": "Python 3",
   "language": "python",
   "name": "python3"
  },
  "language_info": {
   "codemirror_mode": {
    "name": "ipython",
    "version": 3
   },
   "file_extension": ".py",
   "mimetype": "text/x-python",
   "name": "python",
   "nbconvert_exporter": "python",
   "pygments_lexer": "ipython3",
   "version": "3.13.5"
  }
 },
 "nbformat": 4,
 "nbformat_minor": 5
}
