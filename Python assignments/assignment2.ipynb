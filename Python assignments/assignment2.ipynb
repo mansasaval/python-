{
 "cells": [
  {
   "cell_type": "code",
   "execution_count": null,
   "id": "1cc6be35",
   "metadata": {},
   "outputs": [],
   "source": [
    "1.What are the two values of the Boolean data type? How do you write them?\n",
    "\n",
    "Ans:-The Two values of the Boolean data type are True and False Normally '1' indicate True and '0'indicate False\n",
    "\n",
    "What are the three different types of Boolean operators?\n",
    "Ans:-AND , OR , NOT are the three different boolean data types\n",
    "\n",
    "Make a list of each Boolean operator's truth tables (i.e. every possible combination of Boolean values for the operator and what it evaluate )."
   ]
  },
  {
   "cell_type": "markdown",
   "id": "13066f4e",
   "metadata": {},
   "source": []
  },
  {
   "cell_type": "markdown",
   "id": "97ccc050",
   "metadata": {},
   "source": []
  }
 ],
 "metadata": {
  "language_info": {
   "name": "python"
  }
 },
 "nbformat": 4,
 "nbformat_minor": 5
}
